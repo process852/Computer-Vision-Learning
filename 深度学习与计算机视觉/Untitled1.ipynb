{
 "cells": [
  {
   "cell_type": "markdown",
   "id": "c8ecdc9b",
   "metadata": {},
   "source": [
    "# Opencv入门"
   ]
  },
  {
   "cell_type": "markdown",
   "id": "679426ca",
   "metadata": {},
   "source": [
    "## 2.1 读图、展示和保存新图"
   ]
  },
  {
   "cell_type": "code",
   "execution_count": 1,
   "id": "afd8d57a",
   "metadata": {},
   "outputs": [],
   "source": [
    "import cv2 as cv"
   ]
  },
  {
   "cell_type": "code",
   "execution_count": 2,
   "id": "33fed946",
   "metadata": {},
   "outputs": [],
   "source": [
    "# 简单传入图像存放地址，返回一个代表图像的Numpy数组\n",
    "image = cv.imread('./songyi.jpg')"
   ]
  },
  {
   "cell_type": "markdown",
   "id": "1480f43b",
   "metadata": {},
   "source": [
    "* cv.imread()存在第二个参数，表示图片的返回方式\n",
    "* cv.IMREAD_COLOR,cv.IMREAD_GRAYSCALE,cv.IMREAD_UNCHANGED表示读取彩色图片，灰度图片，不变读取图片\n",
    "* 也可以使用数字-1,0,1表示上述参数"
   ]
  },
  {
   "cell_type": "code",
   "execution_count": 4,
   "id": "433c3c99",
   "metadata": {},
   "outputs": [
    {
     "name": "stdout",
     "output_type": "stream",
     "text": [
      "width:2048 pixels\n",
      "height:1400 pixels\n",
      "channels:3 \n"
     ]
    }
   ],
   "source": [
    "print(\"width:{} pixels\".format(image.shape[1]))\n",
    "print(\"height:{} pixels\".format(image.shape[0]))\n",
    "print(\"channels:{} \".format(image.shape[2]))"
   ]
  },
  {
   "cell_type": "markdown",
   "id": "eef185d8",
   "metadata": {},
   "source": [
    "* OPENCV读取图片的数据格式为H*W*C即高度，宽度，通道数\n",
    "* 通道顺序为BGR"
   ]
  },
  {
   "cell_type": "code",
   "execution_count": 5,
   "id": "9444bab6",
   "metadata": {},
   "outputs": [
    {
     "data": {
      "text/plain": [
       "-1"
      ]
     },
     "execution_count": 5,
     "metadata": {},
     "output_type": "execute_result"
    }
   ],
   "source": [
    "# 显示图片,第一个参数表示窗口显示的字符串，第二个参数表示显示的图像数据\n",
    "cv.imshow(\"songyi\",image)\n",
    "cv.waitKey(0)"
   ]
  },
  {
   "cell_type": "code",
   "execution_count": 6,
   "id": "fdba4fd2",
   "metadata": {},
   "outputs": [
    {
     "data": {
      "text/plain": [
       "True"
      ]
     },
     "execution_count": 6,
     "metadata": {},
     "output_type": "execute_result"
    }
   ],
   "source": [
    "# 保存图像数据\n",
    "cv.imwrite(\"songyi.png\",image)"
   ]
  },
  {
   "cell_type": "markdown",
   "id": "0bd1b00d",
   "metadata": {},
   "source": [
    "## 2.2 像素点和局部图像"
   ]
  },
  {
   "cell_type": "markdown",
   "id": "ee4a71d5",
   "metadata": {},
   "source": [
    "* 图像数据以左上角为原点即(0,0)，向右向下为正"
   ]
  },
  {
   "cell_type": "markdown",
   "id": "495c96ed",
   "metadata": {},
   "source": [
    "* 可以使用python切片方式获取局部像素值"
   ]
  },
  {
   "cell_type": "code",
   "execution_count": 7,
   "id": "02e9672d",
   "metadata": {},
   "outputs": [
    {
     "data": {
      "text/plain": [
       "-1"
      ]
     },
     "execution_count": 7,
     "metadata": {},
     "output_type": "execute_result"
    }
   ],
   "source": [
    "patch1 = image[100:500,1000:1500]\n",
    "cv.imshow(\"patch1\",patch1)\n",
    "cv.waitKey(0)"
   ]
  },
  {
   "cell_type": "markdown",
   "id": "526b072c",
   "metadata": {},
   "source": [
    "## 2.3 基本线条操作"
   ]
  },
  {
   "cell_type": "markdown",
   "id": "7524c629",
   "metadata": {},
   "source": [
    "* OPENCV提供了基本的线条操作，包括画线，画矩形等"
   ]
  },
  {
   "cell_type": "code",
   "execution_count": 8,
   "id": "7d991f30",
   "metadata": {},
   "outputs": [
    {
     "data": {
      "text/plain": [
       "-1"
      ]
     },
     "execution_count": 8,
     "metadata": {},
     "output_type": "execute_result"
    }
   ],
   "source": [
    "import numpy as np\n",
    "\n",
    "# 生成一个300*300大小的全黑画板\n",
    "canvas = np.zeros((300,300,3),dtype = 'uint8')\n",
    "\n",
    "for _ in range(25):\n",
    "    # 随机生成一个半径值\n",
    "    radius = np.random.randint(5,200)\n",
    "    # 随机生成一个填充的颜色\n",
    "    color = np.random.randint(0,256,size = (3,)).tolist()\n",
    "    # 圆中心坐标值\n",
    "    pt = np.random.randint(0,200,size = (2,))\n",
    "    \n",
    "    # 画圆操作，canvas表示操作的图像，pt表示圆的中心坐标，radius表示圆的半径，color表示填充的颜色\n",
    "    cv.circle(canvas,tuple(pt),radius,color,-1)\n",
    "cv.imshow(\"canvas\",canvas)\n",
    "cv.waitKey(0)"
   ]
  },
  {
   "cell_type": "code",
   "execution_count": 10,
   "id": "3828a2b3",
   "metadata": {},
   "outputs": [
    {
     "data": {
      "text/plain": [
       "-1"
      ]
     },
     "execution_count": 10,
     "metadata": {},
     "output_type": "execute_result"
    }
   ],
   "source": [
    "# 生成一个300*300大小的全黑画板\n",
    "canvas = np.zeros((300,300,3),dtype = 'uint8')\n",
    "\n",
    "for _ in range(25):\n",
    "    # 随机生成一个填充的颜色\n",
    "    color = np.random.randint(0,256,size = (3,)).tolist()\n",
    "    # 圆中心坐标值\n",
    "    pt1 = np.random.randint(0,200,size = (2,))\n",
    "    pt2 = np.random.randint(0,200,size = (2,))\n",
    "    \n",
    "    # 画矩形框,pt1,pt2表示矩形框的对角坐标，color表示使用的颜色，thickness为负值时表示填充整个矩形框，为正值时表示矩形框的线框\n",
    "    cv.rectangle(canvas,pt1,pt2,color,thickness = 1)\n",
    "cv.imshow(\"canvas\",canvas)\n",
    "cv.waitKey(0)"
   ]
  },
  {
   "cell_type": "code",
   "execution_count": 14,
   "id": "b2effa6d",
   "metadata": {},
   "outputs": [
    {
     "data": {
      "text/plain": [
       "-1"
      ]
     },
     "execution_count": 14,
     "metadata": {},
     "output_type": "execute_result"
    }
   ],
   "source": [
    "canvas = np.zeros((300,300,3),dtype = 'uint8')\n",
    "text = 'Hello World'\n",
    "color1 = np.random.randint(0,256,size = (3,)).tolist()\n",
    "color2 = np.random.randint(0,256,size = (3,)).tolist()\n",
    "pt1 = (100,100)\n",
    "pt2 = (250,250)\n",
    "cv.rectangle(canvas,pt1,pt2,color1,thickness = 1)\n",
    "cv.putText(canvas,text,pt1,cv.FONT_HERSHEY_SIMPLEX,1,color = color2)\n",
    "cv.imshow(\"canvas\",canvas)\n",
    "cv.waitKey(0)"
   ]
  },
  {
   "cell_type": "code",
   "execution_count": null,
   "id": "d96c2148",
   "metadata": {},
   "outputs": [],
   "source": []
  }
 ],
 "metadata": {
  "kernelspec": {
   "display_name": "pytorch1",
   "language": "python",
   "name": "pytorch1"
  },
  "language_info": {
   "codemirror_mode": {
    "name": "ipython",
    "version": 3
   },
   "file_extension": ".py",
   "mimetype": "text/x-python",
   "name": "python",
   "nbconvert_exporter": "python",
   "pygments_lexer": "ipython3",
   "version": "3.8.8"
  }
 },
 "nbformat": 4,
 "nbformat_minor": 5
}
